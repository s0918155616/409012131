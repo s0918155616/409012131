{
 "cells": [
  {
   "cell_type": "markdown",
   "metadata": {
    "colab_type": "text",
    "id": "view-in-github"
   },
   "source": [
    "<a href=\"https://colab.research.google.com/github/s0918155616/409012131/blob/main/Python_Week_4.ipynb\" target=\"_parent\"><img src=\"https://colab.research.google.com/assets/colab-badge.svg\" alt=\"Open In Colab\"/></a>"
   ]
  },
  {
   "cell_type": "markdown",
   "metadata": {
    "id": "i-70ivLNVSeY"
   },
   "source": [
    "# Python Week 4: Function 函式"
   ]
  },
  {
   "cell_type": "markdown",
   "metadata": {
    "id": "XKYXEG5NVSea"
   },
   "source": [
    "## 4.1 函式呼叫\n",
    "\n",
    "* **Function (函式)**: 將一連串有關聯性的指令，包起來，形成一個單一功能。\n",
    "      \n",
    "* 使用一個函式，我們會說「呼叫一個函式」 \"call a function\" 或是 「一個函式呼叫」 \"a function call\" 來稱呼\n",
    "      \n",
    "* 前面遇過的函式呼叫:"
   ]
  },
  {
   "cell_type": "code",
   "execution_count": null,
   "metadata": {
    "id": "KPScnapUVSea",
    "outputId": "c4ca3ee7-fa2c-40e6-b288-d2e1019b5541"
   },
   "outputs": [
    {
     "data": {
      "text/plain": [
       "int"
      ]
     },
     "execution_count": 1,
     "metadata": {},
     "output_type": "execute_result"
    }
   ],
   "source": [
    "type(32)"
   ]
  },
  {
   "cell_type": "markdown",
   "metadata": {
    "id": "lIIPOC9cVSec"
   },
   "source": [
    "這就是使用了「內建(built-in)」的type函式，讓系統完成一個作業。請問type的功能為何？\n",
    "\n",
    "而括號中的32就是type函式運算過程中需要的「參數值」。每個函式的運作有能需要數量不等的參數才能運作。"
   ]
  },
  {
   "cell_type": "markdown",
   "metadata": {
    "id": "1LX8Lc4yVSec"
   },
   "source": [
    "## 4.2 型態轉換函式\n",
    "\n",
    "先介紹「一群」也是「內建(built-in)」的函式，他們功能是進行數值型態轉換。\n",
    "\n",
    "何謂數值型態(Value Type)？\n",
    "\n",
    "**目的**: 將某種型態的值轉換為另一種型態\n",
    "* 例：把「字串」轉換成「整數」，或是反過來\n",
    "\n",
    "`int()`：只能傳入一個參數，`int()`函數會把數值傳入的參數嘗試轉換為相對應的整數。如果轉換失敗，就會產生錯誤訊息。"
   ]
  },
  {
   "cell_type": "code",
   "execution_count": null,
   "metadata": {
    "id": "ioTZqinMVSec",
    "outputId": "2d1dfca3-e8fb-4bcf-b7b8-0774ada2f1bb"
   },
   "outputs": [
    {
     "data": {
      "text/plain": [
       "32"
      ]
     },
     "execution_count": 3,
     "metadata": {},
     "output_type": "execute_result"
    }
   ],
   "source": [
    "int(32)"
   ]
  },
  {
   "cell_type": "code",
   "execution_count": null,
   "metadata": {
    "id": "dJQrbNOoVSed",
    "outputId": "6c257086-3be1-4353-a79e-f8c17cb3abcb",
    "scrolled": true
   },
   "outputs": [
    {
     "ename": "ValueError",
     "evalue": "invalid literal for int() with base 10: 'Hello'",
     "output_type": "error",
     "traceback": [
      "\u001b[1;31m---------------------------------------------------------------------------\u001b[0m",
      "\u001b[1;31mValueError\u001b[0m                                Traceback (most recent call last)",
      "Cell \u001b[1;32mIn[2], line 1\u001b[0m\n\u001b[1;32m----> 1\u001b[0m \u001b[38;5;28mint\u001b[39m(\u001b[38;5;124m'\u001b[39m\u001b[38;5;124mHello\u001b[39m\u001b[38;5;124m'\u001b[39m)\n",
      "\u001b[1;31mValueError\u001b[0m: invalid literal for int() with base 10: 'Hello'"
     ]
    }
   ],
   "source": [
    "int('Hello')"
   ]
  },
  {
   "cell_type": "markdown",
   "metadata": {
    "id": "p_87aLs8VSed"
   },
   "source": [
    "* 小數轉整數 = 無條件捨去。因此`int()` 除了進行數值轉換，所以也可以拿來作為「無條件捨去」的功能來用。"
   ]
  },
  {
   "cell_type": "code",
   "execution_count": null,
   "metadata": {
    "id": "ndAmPMF6VSed",
    "outputId": "2ea03d8f-825b-4f99-de35-d109b0e9fe37"
   },
   "outputs": [
    {
     "data": {
      "text/plain": [
       "3"
      ]
     },
     "execution_count": 4,
     "metadata": {},
     "output_type": "execute_result"
    }
   ],
   "source": [
    "int(3.99999)"
   ]
  },
  {
   "cell_type": "code",
   "execution_count": null,
   "metadata": {
    "id": "o27GazBcVSee",
    "outputId": "5b0df9b0-4abd-4faa-efb7-cabe3b67532d"
   },
   "outputs": [
    {
     "data": {
      "text/plain": [
       "-2"
      ]
     },
     "execution_count": 5,
     "metadata": {},
     "output_type": "execute_result"
    }
   ],
   "source": [
    "int(-2.3)"
   ]
  },
  {
   "cell_type": "code",
   "execution_count": null,
   "metadata": {
    "id": "wLR0_HwAVSee",
    "outputId": "095fec67-e08c-4087-d9fa-3fe95261df05"
   },
   "outputs": [
    {
     "data": {
      "text/plain": [
       "92"
      ]
     },
     "execution_count": 6,
     "metadata": {},
     "output_type": "execute_result"
    }
   ],
   "source": [
    "int('57') + int('35')"
   ]
  },
  {
   "cell_type": "markdown",
   "metadata": {
    "id": "RxhtDSv7VSee"
   },
   "source": [
    "`float()`: 只能傳入一個參數，`float()`函數會把數值傳入的參數嘗試轉換為相對應的小數。如果轉換失敗，就會產生錯誤訊息。"
   ]
  },
  {
   "cell_type": "code",
   "execution_count": null,
   "metadata": {
    "id": "4LTa5i9NVSee",
    "outputId": "ed665eb4-4395-451d-d358-a37bd23ef7e7"
   },
   "outputs": [
    {
     "data": {
      "text/plain": [
       "32.0"
      ]
     },
     "execution_count": 7,
     "metadata": {},
     "output_type": "execute_result"
    }
   ],
   "source": [
    "float(32)"
   ]
  },
  {
   "cell_type": "code",
   "execution_count": null,
   "metadata": {
    "id": "cyM-QDgYVSee",
    "outputId": "3ba8ba84-74dc-474e-bbef-0c3c2d6bd815"
   },
   "outputs": [
    {
     "data": {
      "text/plain": [
       "3.14159"
      ]
     },
     "execution_count": 8,
     "metadata": {},
     "output_type": "execute_result"
    }
   ],
   "source": [
    "float('3.14159')"
   ]
  },
  {
   "cell_type": "code",
   "execution_count": null,
   "metadata": {
    "id": "-bvdEF2jVSee",
    "outputId": "eec9e35d-f833-405e-dc05-427f04caf2db"
   },
   "outputs": [
    {
     "data": {
      "text/plain": [
       "3.0"
      ]
     },
     "execution_count": 9,
     "metadata": {},
     "output_type": "execute_result"
    }
   ],
   "source": [
    "float('3')"
   ]
  },
  {
   "cell_type": "markdown",
   "metadata": {
    "id": "QRuCZs7qVSef"
   },
   "source": [
    "`str()`: 把傳入的參數轉為字串。"
   ]
  },
  {
   "cell_type": "code",
   "execution_count": null,
   "metadata": {
    "id": "OCnSvdq5VSef",
    "outputId": "ca39e850-1f1e-4801-cdf0-00576f00f01e"
   },
   "outputs": [
    {
     "data": {
      "text/plain": [
       "'32'"
      ]
     },
     "execution_count": 10,
     "metadata": {},
     "output_type": "execute_result"
    }
   ],
   "source": [
    "str(32)"
   ]
  },
  {
   "cell_type": "code",
   "execution_count": null,
   "metadata": {
    "id": "1dGQFtReVSef",
    "outputId": "83fbd8ca-d589-4249-b98e-0384194d11f4"
   },
   "outputs": [
    {
     "data": {
      "text/plain": [
       "'3.14159'"
      ]
     },
     "execution_count": 11,
     "metadata": {},
     "output_type": "execute_result"
    }
   ],
   "source": [
    "str(3.14159)"
   ]
  },
  {
   "cell_type": "code",
   "execution_count": null,
   "metadata": {
    "id": "VLcFFv03VSef",
    "outputId": "0f7cec93-e688-4bdc-ccf8-2736ff59b1ce"
   },
   "outputs": [
    {
     "data": {
      "text/plain": [
       "'Hello'"
      ]
     },
     "execution_count": 12,
     "metadata": {},
     "output_type": "execute_result"
    }
   ],
   "source": [
    "str(\"Hello\")"
   ]
  },
  {
   "cell_type": "markdown",
   "metadata": {
    "id": "W6LgY_TtVSef"
   },
   "source": [
    "## 4.3 數學函式"
   ]
  },
  {
   "cell_type": "markdown",
   "metadata": {
    "id": "vXZupprNVSef"
   },
   "source": [
    "本節介紹數學相關函式。\n",
    "\n",
    "Python 把數學相關函式整合到一個模組當中，若需要用到數學模組，就要先「引用」(import)進來用。\n",
    "\n",
    "所有的數學相關函式，都是在 **math** 這個模組裡面。"
   ]
  },
  {
   "cell_type": "markdown",
   "metadata": {
    "id": "tDvWXMjQVSef"
   },
   "source": [
    "因此，使用數學模組，你需要以下指令："
   ]
  },
  {
   "cell_type": "code",
   "execution_count": null,
   "metadata": {
    "id": "HwjAZW-CVSeg"
   },
   "outputs": [],
   "source": [
    "import math"
   ]
  },
  {
   "cell_type": "markdown",
   "metadata": {
    "id": "BxccrhykVSeg"
   },
   "source": [
    "上面指令要是沒有錯誤訊息就是成功了。\n",
    "\n",
    "成功之後，你已經創造了math 模組的物件，透過他，你可以執行內建的數學函式。\n",
    "\n",
    "你也可以試試看「列印  math 模組」，看看系統的訊息是什麼："
   ]
  },
  {
   "cell_type": "code",
   "execution_count": null,
   "metadata": {
    "id": "dKXesR3rVSeg",
    "outputId": "b2911efa-126a-4e5e-9762-06d97cce8530"
   },
   "outputs": [
    {
     "name": "stdout",
     "output_type": "stream",
     "text": [
      "<module 'math' (built-in)>\n"
     ]
    }
   ],
   "source": [
    "print(math)"
   ]
  },
  {
   "cell_type": "markdown",
   "metadata": {
    "id": "rneMfYv4VSeg"
   },
   "source": [
    "* math 模組內，不僅有「內建的數學函式」，也有「內建的數學常數」。\n",
    "* 要使用這些函式與常數，你都必需要知道「函式名稱」或「常數名稱」\n",
    "* 由於包裝在模組內，所以這些「函式」或「常數」前面必須透過模組來使用，表示方式為「模組.函式」或「模組.常數」。例如：\n",
    " * Function of  'logarithm base 10' (以10為底的對數) and 'sine of radians.' (三角函式中的 sin函式)\n",
    " * decibels ＝ 分貝"
   ]
  },
  {
   "cell_type": "code",
   "execution_count": null,
   "metadata": {
    "id": "9j0cwMiEVSeg",
    "outputId": "a430277f-8699-42aa-afb2-904282cf74d8"
   },
   "outputs": [
    {
     "name": "stdout",
     "output_type": "stream",
     "text": [
      "6.273658565927327\n"
     ]
    }
   ],
   "source": [
    "signal_power = 5.3\n",
    "noise_power = 1.25\n",
    "ratio = signal_power / noise_power\n",
    "decibels = 10 * math.log10(ratio)\n",
    "print(decibels)"
   ]
  },
  {
   "cell_type": "code",
   "execution_count": null,
   "metadata": {
    "id": "72uQK42uVSeg",
    "outputId": "c6d9c18c-a18c-4d42-9376-e984e06d43ed"
   },
   "outputs": [
    {
     "name": "stdout",
     "output_type": "stream",
     "text": [
      "0.644217687237691\n"
     ]
    }
   ],
   "source": [
    "radians = 0.7\n",
    "height = math.sin(radians)\n",
    "print(height)"
   ]
  },
  {
   "cell_type": "markdown",
   "metadata": {
    "id": "P8sA2B85VSeg"
   },
   "source": [
    "計算徑度 ($徑度 = \\frac{角度}{2 \\pi \\times 360}$) ，$\\pi = 3.14159\\ldots$ = math.pi"
   ]
  },
  {
   "cell_type": "code",
   "execution_count": null,
   "metadata": {
    "id": "bO-OliQ3VSeg",
    "outputId": "14f5b54b-235b-4627-86ee-5d58c784f92e"
   },
   "outputs": [
    {
     "data": {
      "text/plain": [
       "0.7071067811865476"
      ]
     },
     "execution_count": 18,
     "metadata": {},
     "output_type": "execute_result"
    }
   ],
   "source": [
    "degrees = 45\n",
    "radians = degrees / 360.0 * 2 * math.pi\n",
    "math.sin(radians)"
   ]
  },
  {
   "cell_type": "markdown",
   "metadata": {
    "id": "P138JC8zVSeg"
   },
   "source": [
    "使用數學模組中的平方根函式"
   ]
  },
  {
   "cell_type": "code",
   "execution_count": null,
   "metadata": {
    "id": "N6pRp-i1VSeh",
    "outputId": "e40e80b8-1661-4cba-ea99-2b66b1232376"
   },
   "outputs": [
    {
     "data": {
      "text/plain": [
       "0.7071067811865476"
      ]
     },
     "execution_count": 20,
     "metadata": {},
     "output_type": "execute_result"
    }
   ],
   "source": [
    "math.sqrt(2) / 2.0"
   ]
  },
  {
   "cell_type": "markdown",
   "metadata": {
    "id": "kpzIlorXVSeh"
   },
   "source": [
    "## 4.4 組合 Composition (把指令與函式組合起來）"
   ]
  },
  {
   "cell_type": "markdown",
   "metadata": {
    "id": "jg7jGGvKVSeh"
   },
   "source": [
    "我們可以每次只做一小步，做很多小步，也可以一次把很多指令黏起來。例如："
   ]
  },
  {
   "cell_type": "code",
   "execution_count": null,
   "metadata": {
    "id": "v5PBgE__VSeh",
    "outputId": "96d24831-88af-49c4-c44f-17e7deedd069"
   },
   "outputs": [
    {
     "name": "stdout",
     "output_type": "stream",
     "text": [
      "0.7071067811865476\n"
     ]
    }
   ],
   "source": [
    "x = math.sin(degrees / 360.0 * 2 * math.pi)\n",
    "print(x)"
   ]
  },
  {
   "cell_type": "code",
   "execution_count": null,
   "metadata": {
    "id": "Ox6tLCt-VSeh"
   },
   "outputs": [],
   "source": [
    "x = math.exp(math.log(x+1))"
   ]
  },
  {
   "cell_type": "markdown",
   "metadata": {
    "id": "C05o0BBmVSeh"
   },
   "source": [
    "### 課堂練習\n",
    "1. 有一直三角形, 若已知其較短兩邊長為10cm, 8cm, 則另一邊為幾公分?  (請使用 math.pow(x,y) 與 math.sqrt(x))"
   ]
  },
  {
   "cell_type": "code",
   "execution_count": null,
   "metadata": {
    "id": "xnwOj0PGVSeh"
   },
   "outputs": [],
   "source": []
  },
  {
   "cell_type": "markdown",
   "metadata": {
    "id": "ZgkIum1DVSeh"
   },
   "source": [
    "2. 有一直三角形, 若已知其兩邊長為10cm, 8cm, 則另一邊可能為幾公分?"
   ]
  },
  {
   "cell_type": "code",
   "execution_count": null,
   "metadata": {
    "id": "rxkrAIqnVSei"
   },
   "outputs": [],
   "source": []
  },
  {
   "cell_type": "markdown",
   "metadata": {
    "id": "uzM30b9XVSei"
   },
   "source": [
    "## 4.5 建立我們自訂的函式"
   ]
  },
  {
   "cell_type": "markdown",
   "metadata": {
    "id": "bNNThyHhVSei"
   },
   "source": [
    "內建的函式還有非常非常多，在很多狀況下，我們都在學習這些「內建的函式」可以幫助我們什麼事。以及如何用這接小方塊，建立大系統。\n",
    "\n",
    "但是除了使用內建的函式之外，我們也會把自己寫的幾個敘述包起來，變成一個較大的「自訂函式」。\n",
    "\n",
    "創造一個自訂函式至少需要：\n",
    "1. 給一個唯一的函式名稱\n",
    "2. 決定函式的內容\n",
    "\n",
    "以下是一個自訂函式的範例。請找出這個函式的1.名稱，2. 內容部份"
   ]
  },
  {
   "cell_type": "code",
   "execution_count": null,
   "metadata": {
    "id": "ewu3dTPNVSei"
   },
   "outputs": [],
   "source": [
    "def print_sutra():\n",
    "    print(\"揭諦揭諦。波羅揭諦。\")\n",
    "    print(\"波羅僧揭諦。菩提薩婆訶。\")"
   ]
  },
  {
   "cell_type": "code",
   "execution_count": null,
   "metadata": {
    "id": "i0fW9_2MVSei",
    "outputId": "3c3a4783-34ff-466c-a7a0-a4928714bb49"
   },
   "outputs": [
    {
     "name": "stdout",
     "output_type": "stream",
     "text": [
      "揭諦揭諦。波羅揭諦。\n",
      "波羅僧揭諦。菩提薩婆訶。\n"
     ]
    }
   ],
   "source": [
    "print_sutra()"
   ]
  },
  {
   "cell_type": "markdown",
   "metadata": {
    "id": "f_gLRBizVSei"
   },
   "source": [
    "學習重點：\n",
    "1. `def` 是關鍵字，表示要定義一個函式\n",
    "2. 函式名稱為 `print_sutra` 接在 `def` 指令之後\n",
    "3. `()` 表示這個函式執行時不需要參數\n",
    "4. 括號後一定要接「`:`」，表示函數內容開始\n",
    "5. 上述的幾個元素組成自訂函數定義的第一行，我們稱為函式的header，而下面行，我們稱為函式的body"
   ]
  },
  {
   "cell_type": "markdown",
   "metadata": {
    "id": "Jw9dooBoVSei"
   },
   "source": [
    "**重點**：***body 內容一定要縮排，而且要縮一樣多***。\n",
    "* Python 建議使用 「四個空白」來表示縮排，但我個人習慣用「一個tab」"
   ]
  },
  {
   "cell_type": "markdown",
   "metadata": {
    "id": "la0dwdycVSej"
   },
   "source": [
    "* body 內容可以有無限多個指令。\n",
    "\n",
    "字串必須用 雙引號 或 單引號，前後包起來。規則是：\n",
    "* 用 雙引號 開始，就要用 雙引號 結束\n",
    "* 用 單引號 開始，就要用 單引號 結束\n",
    "\n",
    "兩者可以混用。例如："
   ]
  },
  {
   "cell_type": "code",
   "execution_count": null,
   "metadata": {
    "id": "eSixr39CVSej"
   },
   "outputs": [],
   "source": [
    "def print_lyrics():\n",
    "    print(\"I'm a lumberjack, and I'm okay.\")\n",
    "    print(\"I sleep all night and I work all day.\")"
   ]
  },
  {
   "cell_type": "markdown",
   "metadata": {
    "id": "S6MDmzKEVSej"
   },
   "source": [
    "呼叫函式的方式，就是用函式名稱加上括號與參數，來進行。\n",
    "\n",
    "請實做呼叫上面的例子："
   ]
  },
  {
   "cell_type": "code",
   "execution_count": null,
   "metadata": {
    "id": "UHObk58aVSej",
    "outputId": "8404de94-696d-4dec-baba-582116ee6647"
   },
   "outputs": [
    {
     "name": "stdout",
     "output_type": "stream",
     "text": [
      "I'm a lumberjack, and I'm okay.\n",
      "I sleep all night and I work all day.\n"
     ]
    }
   ],
   "source": [
    "print_lyrics()"
   ]
  },
  {
   "cell_type": "markdown",
   "metadata": {
    "id": "8jDD1fCHVSej"
   },
   "source": [
    "你也可以訂一個函式，去呼叫別的函式："
   ]
  },
  {
   "cell_type": "code",
   "execution_count": null,
   "metadata": {
    "id": "w3hg31yHVSej"
   },
   "outputs": [],
   "source": [
    "def repeat_lyrics():\n",
    "    print_lyrics()\n",
    "    print_lyrics()"
   ]
  },
  {
   "cell_type": "code",
   "execution_count": null,
   "metadata": {
    "id": "PZ8-F6XMVSej"
   },
   "outputs": [],
   "source": [
    "repeat_lyrics()"
   ]
  },
  {
   "cell_type": "code",
   "execution_count": null,
   "metadata": {
    "id": "Ab39M1Q8VSej",
    "outputId": "1a77cc43-ce44-4321-8b15-a0618bc9c34e"
   },
   "outputs": [
    {
     "data": {
      "text/plain": [
       "6765"
      ]
     },
     "execution_count": 28,
     "metadata": {},
     "output_type": "execute_result"
    }
   ],
   "source": [
    "def fibb(x):\n",
    "    if x <= 0:\n",
    "        return 0\n",
    "    elif x == 1:\n",
    "        return 1\n",
    "    else:\n",
    "        return fibb(x -1) + fibb(x -2)\n",
    "\n",
    "fibb(20)"
   ]
  },
  {
   "cell_type": "markdown",
   "metadata": {
    "id": "TsHFRPH5VSek"
   },
   "source": [
    "## 4.6 定義與呼叫"
   ]
  },
  {
   "cell_type": "markdown",
   "metadata": {
    "id": "vbMGFhWOVSek"
   },
   "source": [
    "更多層的呼叫，讓我們來了解一下執行順序。"
   ]
  },
  {
   "cell_type": "code",
   "execution_count": null,
   "metadata": {
    "id": "8NFSujwmVSek",
    "outputId": "85acd7a9-ce79-4fe5-b3ea-388a046660e7"
   },
   "outputs": [
    {
     "name": "stdout",
     "output_type": "stream",
     "text": [
      "揭諦揭諦。波羅揭諦。\n",
      "波羅僧揭諦。菩提薩婆訶。\n",
      "揭諦揭諦。波羅揭諦。\n",
      "波羅僧揭諦。菩提薩婆訶。\n"
     ]
    }
   ],
   "source": [
    "def print_sutra():\n",
    "    print(\"揭諦揭諦。波羅揭諦。\")\n",
    "    print(\"波羅僧揭諦。菩提薩婆訶。\")\n",
    "\n",
    "def repeat_sutra():\n",
    "    print_sutra()\n",
    "    print_sutra()\n",
    "\n",
    "repeat_sutra()"
   ]
  },
  {
   "cell_type": "markdown",
   "metadata": {
    "id": "hP21YaNAVSek"
   },
   "source": [
    "請在這裡寫下來，程式是如何執行的："
   ]
  },
  {
   "cell_type": "markdown",
   "metadata": {
    "id": "OLp1oEsDVSek"
   },
   "source": [
    "def print_sutra():\n",
    "    print(\"揭諦揭諦。波羅揭諦。\")\n",
    "    print(\"波羅僧揭諦。菩提薩婆訶。\")"
   ]
  },
  {
   "cell_type": "markdown",
   "metadata": {
    "id": "gfnKGMZxVSek"
   },
   "source": [
    "**範例 4.1** 將上面的程式碼的最後一行移到程式的最開頭，也就是讓函式的呼叫出現在函式的定義之前，執行程式看看會有什麼結果？"
   ]
  },
  {
   "cell_type": "code",
   "execution_count": null,
   "metadata": {
    "id": "blaNwLMYVSek",
    "outputId": "b25eb8d6-41fc-4fb6-a5aa-da189fd91e4a"
   },
   "outputs": [
    {
     "name": "stdout",
     "output_type": "stream",
     "text": [
      "揭諦揭諦。波羅揭諦。\n",
      "波羅僧揭諦。菩提薩婆訶。\n",
      "揭諦揭諦。波羅揭諦。\n",
      "波羅僧揭諦。菩提薩婆訶。\n"
     ]
    }
   ],
   "source": [
    "repeat_sutra()\n",
    "\n",
    "def print_sutra():\n",
    "    print(\"揭諦揭諦。波羅揭諦。\")\n",
    "    print(\"波羅僧揭諦。菩提薩婆訶。\")\n",
    "\n",
    "def repeat_sutra():\n",
    "    print_sutra()\n",
    "    print_sutra()"
   ]
  },
  {
   "cell_type": "markdown",
   "metadata": {
    "id": "i3UvuklCVSek"
   },
   "source": [
    "**範例 4.2** 將 `repeat_sutra()` 函式的定義移到 `print_sutra()` 函式的定義之前，也就是在 `repeat_sutra()` 定義裡面呼叫 `print_sutra()` 函式之時，尚未看到 `print_sutra()` 函率的定義。若執行這樣的程式，會有什麼結果？"
   ]
  },
  {
   "cell_type": "code",
   "execution_count": null,
   "metadata": {
    "id": "aRMOXL-KVSek",
    "outputId": "21c43b00-d528-4f93-a2c4-b96996da7328"
   },
   "outputs": [
    {
     "name": "stdout",
     "output_type": "stream",
     "text": [
      "揭諦揭諦。波羅揭諦。\n",
      "波羅僧揭諦。菩提薩婆訶。\n",
      "揭諦揭諦。波羅揭諦。\n",
      "波羅僧揭諦。菩提薩婆訶。\n"
     ]
    }
   ],
   "source": [
    "def repeat_sutra():\n",
    "    print_sutra()\n",
    "    print_sutra()\n",
    "\n",
    "def print_sutra():\n",
    "    print(\"揭諦揭諦。波羅揭諦。\")\n",
    "    print(\"波羅僧揭諦。菩提薩婆訶。\")\n",
    "\n",
    "\n",
    "\n",
    "repeat_sutra()"
   ]
  },
  {
   "cell_type": "markdown",
   "metadata": {
    "id": "ApwQVFK3VSel"
   },
   "source": [
    "## 4.7 函式的執行流程"
   ]
  },
  {
   "cell_type": "markdown",
   "metadata": {
    "id": "MkbQsRsvVSel"
   },
   "source": [
    "1. 程式一定是由上到下執行，由第一行個程式指令執行到最後一行。\n",
    "2. 創造自訂函式的指令，我們又稱做「函式的宣告」。稱作「宣告」是因為，創造自訂函式時，這些內容是不會先被執行的。必須等到函式被呼叫才會執行。\n",
    "3. 「函式的宣告」並不會讓程式執行順序亂跑，而是「函式的呼叫」，才會改變程式執行順序，使其百花撩亂。\n",
    "4. 當一個指令(A)執行順「呼叫一個函式(B)」時，程式執行順序會移到該函式裡面的第一個指令，依序向下執行。直到函式(B)結束後，離開函式時，執行順序又會移到指令(A)的下一步驟。\n",
    "5. 函式內容可能會呼叫別的函式，所以程式執行順序會很複雜。"
   ]
  },
  {
   "cell_type": "markdown",
   "metadata": {
    "id": "Bki4nqhiVSel"
   },
   "source": [
    "## 4.8 參數 Paramters and Arguments"
   ]
  },
  {
   "cell_type": "markdown",
   "metadata": {
    "id": "6M6oRyNRVSel"
   },
   "source": [
    "某些函式的執行是必須要有「參數」的。例如 `math.sin`，一定要給角度才能算sin值。而 `math.pow(x,y)` 需要兩個參數才可以計算 $x$ 的 $y$ 次方。\n",
    "\n",
    "以下是一個「印兩次的函式呼叫」："
   ]
  },
  {
   "cell_type": "code",
   "execution_count": null,
   "metadata": {
    "id": "vmt3ZlGBVSel"
   },
   "outputs": [],
   "source": [
    "def print_twice(X):\n",
    "    print(X)\n",
    "    print(X)"
   ]
  },
  {
   "cell_type": "markdown",
   "metadata": {
    "id": "ciC78I98VSel"
   },
   "source": [
    "請在程式中定義以上副程式，並執行下列呼叫試試看："
   ]
  },
  {
   "cell_type": "code",
   "execution_count": null,
   "metadata": {
    "id": "EKkpEHfQVSel",
    "outputId": "3c84c8ee-28ed-4416-e9d8-3ea6e614544c"
   },
   "outputs": [
    {
     "name": "stdout",
     "output_type": "stream",
     "text": [
      "波羅僧揭諦。菩提薩婆訶。\n",
      "波羅僧揭諦。菩提薩婆訶。\n"
     ]
    }
   ],
   "source": [
    "print_twice('波羅僧揭諦。菩提薩婆訶。')"
   ]
  },
  {
   "cell_type": "code",
   "execution_count": null,
   "metadata": {
    "id": "828I5wmzVSel",
    "outputId": "4f687532-be2f-494a-eaa8-b1167151f816"
   },
   "outputs": [
    {
     "name": "stdout",
     "output_type": "stream",
     "text": [
      "17\n",
      "17\n"
     ]
    }
   ],
   "source": [
    "print_twice(X=17)"
   ]
  },
  {
   "cell_type": "code",
   "execution_count": null,
   "metadata": {
    "id": "sD-c4ovEVSem",
    "outputId": "03c509e1-8d7c-4107-a156-869417047eef"
   },
   "outputs": [
    {
     "name": "stdout",
     "output_type": "stream",
     "text": [
      "3.141592653589793\n",
      "3.141592653589793\n"
     ]
    }
   ],
   "source": [
    "import math\n",
    "print_twice(X=math.pi)"
   ]
  },
  {
   "cell_type": "code",
   "execution_count": null,
   "metadata": {
    "id": "KTItgGNhVSem",
    "outputId": "6c9b660b-2a0a-428f-ad8a-f4ef01fd7d92"
   },
   "outputs": [
    {
     "name": "stdout",
     "output_type": "stream",
     "text": [
      "王老先生王老先生王老先生王老先生\n",
      "王老先生王老先生王老先生王老先生\n"
     ]
    }
   ],
   "source": [
    "print_twice(X='王老先生' * 4)"
   ]
  },
  {
   "cell_type": "code",
   "execution_count": null,
   "metadata": {
    "id": "4JMn353WVSem",
    "outputId": "cf549d36-54c5-40ab-db76-299af414e103"
   },
   "outputs": [
    {
     "name": "stdout",
     "output_type": "stream",
     "text": [
      "-1.0\n",
      "-1.0\n"
     ]
    }
   ],
   "source": [
    "print_twice(X=math.cos(math.pi))"
   ]
  },
  {
   "cell_type": "markdown",
   "metadata": {
    "id": "csmydxH0VSem"
   },
   "source": [
    "也可以讓使用者的輸入，當作是你的輸出喔："
   ]
  },
  {
   "cell_type": "code",
   "execution_count": null,
   "metadata": {
    "id": "CNGEodTrVSem",
    "outputId": "ff4b20c9-6de5-4fc5-cea6-ec46ff2d7fe3"
   },
   "outputs": [
    {
     "name": "stdin",
     "output_type": "stream",
     "text": [
      "請輸入要印兩次的字串:> abcdef\n"
     ]
    },
    {
     "name": "stdout",
     "output_type": "stream",
     "text": [
      "<class 'str'>\n",
      "abcdef\n",
      "abcdef\n"
     ]
    }
   ],
   "source": [
    "def print_twice(strA):\n",
    "    print(strA)\n",
    "    print(strA)\n",
    "\n",
    "text = input(\"請輸入要印兩次的字串:>\")\n",
    "print(type(text))\n",
    "print_twice(strA=text)"
   ]
  },
  {
   "cell_type": "markdown",
   "metadata": {
    "id": "2xMd5BdjVSem"
   },
   "source": [
    "## 4.9 變數與參數都是區域性的"
   ]
  },
  {
   "cell_type": "markdown",
   "metadata": {
    "id": "u0ZsmsghVSem"
   },
   "source": [
    "試試看下列程式的結果, 並嘗試對自己解釋一下，為何你看到的結果是對的："
   ]
  },
  {
   "cell_type": "code",
   "execution_count": null,
   "metadata": {
    "id": "PwPPTCPDVSem",
    "outputId": "aea1b934-1b41-4101-84c2-06a25c225a75"
   },
   "outputs": [
    {
     "name": "stdout",
     "output_type": "stream",
     "text": [
      "觀自在菩薩。行深波若波羅蜜多時。\n",
      "觀自在菩薩。行深波若波羅蜜多時。\n"
     ]
    }
   ],
   "source": [
    "def print_twice(text):\n",
    "    print(text)\n",
    "    print(text)\n",
    "\n",
    "def cat_twice(part1, part2):\n",
    "    cat = part1 + part2\n",
    "    print_twice(text=cat)\n",
    "\n",
    "line1 = '觀自在菩薩。'\n",
    "line2 = '行深波若波羅蜜多時。'\n",
    "cat_twice(part1=line1, part2=line2)"
   ]
  },
  {
   "cell_type": "markdown",
   "metadata": {
    "id": "hDbjxIptVSen"
   },
   "source": [
    "最後加上一行，試試看，結果為何？這句執行結果想告訴你什麼？"
   ]
  },
  {
   "cell_type": "code",
   "execution_count": null,
   "metadata": {
    "id": "m0kCAvdXVSen",
    "outputId": "046dca9f-9244-4819-d51c-6ba478bd7779"
   },
   "outputs": [
    {
     "ename": "NameError",
     "evalue": "name 'cat' is not defined",
     "output_type": "error",
     "traceback": [
      "\u001b[1;31m---------------------------------------------------------------------------\u001b[0m",
      "\u001b[1;31mNameError\u001b[0m                                 Traceback (most recent call last)",
      "Cell \u001b[1;32mIn[51], line 1\u001b[0m\n\u001b[1;32m----> 1\u001b[0m \u001b[38;5;28mprint\u001b[39m(cat)\n",
      "\u001b[1;31mNameError\u001b[0m: name 'cat' is not defined"
     ]
    }
   ],
   "source": [
    "print(cat)"
   ]
  },
  {
   "cell_type": "markdown",
   "metadata": {
    "id": "tx69ne0YVSen"
   },
   "source": [
    "所有在函式中的定義的變數，都是「區域變數」，函式結束，「區域變數」就消滅了，其他函式是看不到的。"
   ]
  },
  {
   "cell_type": "markdown",
   "metadata": {
    "id": "ENfO7xXJVSen"
   },
   "source": [
    "## 4.10 回傳值 Return Values\n",
    "\n",
    "* 有時呼叫一個函式(function)，會得到「函式執行結果」的回傳值。通常這個回傳值會被用另一個變數儲存起來，或直接在另一個指令中使用。例如："
   ]
  },
  {
   "cell_type": "code",
   "execution_count": null,
   "metadata": {
    "id": "hMCUFS8sXZTG"
   },
   "outputs": [],
   "source": []
  },
  {
   "cell_type": "code",
   "execution_count": 23,
   "metadata": {
    "id": "u88MzsesVSen",
    "outputId": "4380b1f1-47d4-4b1b-a3fc-6d18bbcbbf4d"
   },
   "outputs": [
    {
     "ename": "NameError",
     "evalue": "name 'radius' is not defined",
     "output_type": "error",
     "traceback": [
      "\u001b[1;31m---------------------------------------------------------------------------\u001b[0m",
      "\u001b[1;31mNameError\u001b[0m                                 Traceback (most recent call last)",
      "Cell \u001b[1;32mIn[23], line 3\u001b[0m\n\u001b[0;32m      1\u001b[0m \u001b[38;5;28;01mimport\u001b[39;00m \u001b[38;5;21;01mmath\u001b[39;00m\n\u001b[0;32m      2\u001b[0m e \u001b[38;5;241m=\u001b[39m math\u001b[38;5;241m.\u001b[39mexp(\u001b[38;5;241m1.0\u001b[39m)\n\u001b[1;32m----> 3\u001b[0m height \u001b[38;5;241m=\u001b[39m radius \u001b[38;5;241m*\u001b[39m math\u001b[38;5;241m.\u001b[39msin(radians)\n",
      "\u001b[1;31mNameError\u001b[0m: name 'radius' is not defined"
     ]
    }
   ],
   "source": [
    "import math\n",
    "e = math.exp(1.0)\n",
    "height = radius * math.sin(radians)"
   ]
  },
  {
   "cell_type": "markdown",
   "metadata": {
    "id": "RW9D-3OWVSen"
   },
   "source": [
    "* 我們的第一個「會回傳值的函式」為下面的area()函式，他會計算一個圓的面積，並傳回來給呼叫者。"
   ]
  },
  {
   "cell_type": "code",
   "execution_count": 1,
   "metadata": {
    "id": "noQeU4-2VSen"
   },
   "outputs": [],
   "source": [
    "def area(radius):\n",
    "    temp = math.pi * radius**2\n",
    "    return temp"
   ]
  },
  {
   "cell_type": "markdown",
   "metadata": {
    "id": "4aUkdBpkVSen"
   },
   "source": [
    "* 下面的例子，做了一點小小地修改。回傳的值並沒有先放在一個變數中，而是直接將計算的結果傳回去。"
   ]
  },
  {
   "cell_type": "code",
   "execution_count": 2,
   "metadata": {
    "id": "Po5T5IsIVSeo"
   },
   "outputs": [],
   "source": [
    "def area(radius):\n",
    "    return math.pi * radius**2"
   ]
  },
  {
   "cell_type": "markdown",
   "metadata": {
    "id": "ERfxzzbUVSeo"
   },
   "source": [
    "* 有時候，程式中可能有多個return的敘述。並且由不同的條件所決定對應的回傳值。"
   ]
  },
  {
   "cell_type": "code",
   "execution_count": 3,
   "metadata": {
    "id": "qa0RJC12VSeo"
   },
   "outputs": [],
   "source": [
    "def absolute_value(x):\n",
    "    if x < 0:\n",
    "        return -x\n",
    "    else:\n",
    "        return x"
   ]
  },
  {
   "cell_type": "markdown",
   "metadata": {
    "id": "qsdKolsbVSeo"
   },
   "source": [
    "* 當return一旦被執行之後，函式就會終止，return後面的內容就不會再被執行。也就是說，如果return後續還有其他指令，則永遠不會被執行到。這些指令被稱為：dead code.\n",
    "* 若使用條件敘述與多個return指令，最好確認這些return指令能包含所有可能性。否則就會出現下面這種意外狀況："
   ]
  },
  {
   "cell_type": "code",
   "execution_count": 3,
   "metadata": {
    "id": "I0VChEF6VSeo"
   },
   "outputs": [
    {
     "name": "stdout",
     "output_type": "stream",
     "text": [
      "None\n"
     ]
    }
   ],
   "source": [
    "def absolute_value(x):\n",
    "    if x < 0:\n",
    "        return -x\n",
    "    if x > 0:\n",
    "        return x\n",
    "\n",
    "print(absolute_value(0))"
   ]
  },
  {
   "cell_type": "markdown",
   "metadata": {
    "id": "m37V3Gy4VSeo"
   },
   "source": [
    "### 課堂練習\n",
    "\n",
    "1. 請寫一個函式 `compare_value(x, y)`，比較參數 `x` 和 `y` 的大小，若 `x` 大於 `y` 則回傳 `1`；若 `x` 等於 `y` 則回傳 `0`；若 `x` 小於 `y` 則回傳 `-1`。"
   ]
  },
  {
   "cell_type": "code",
   "execution_count": 22,
   "metadata": {
    "colab": {
     "base_uri": "https://localhost:8080/",
     "height": 106
    },
    "id": "du1iLLeDVSeo",
    "outputId": "f78e8812-2c1d-40c7-ae28-c1c193fd7163"
   },
   "outputs": [
    {
     "name": "stdout",
     "output_type": "stream",
     "text": [
      "-1\n",
      "0\n",
      "1\n"
     ]
    }
   ],
   "source": [
    "def compaye_value(x,y):\n",
    "    if x > y:\n",
    "        return 1\n",
    "    elif x==y:\n",
    "        return 0\n",
    "    else:\n",
    "        return -1\n",
    "        \n",
    "print(compaye_value(3,5))\n",
    "print(compaye_value(5,5))\n",
    "print(compaye_value(5,3))\n"
   ]
  },
  {
   "cell_type": "markdown",
   "metadata": {
    "id": "PJ6UtYhcVSeo"
   },
   "source": [
    "## 4.10 為何要用函式？"
   ]
  },
  {
   "cell_type": "markdown",
   "metadata": {
    "id": "MV1zIUAMVSeo"
   },
   "source": [
    "* 建立一個新函式，也就是給你一個機會把一串敘述給一個名字，可以讓你的程式更容易閱讀，也比較好除錯。\n",
    "* 函式可以讓程式裡面不斷一直重覆的程式碼變少，而且萬一你想要做些修改，你也只要改一次就好。\n",
    "* 把一個很長的程式分割成幾個較小的函式，可以讓你除錯的時候只需要鎖定在小範圍就好，分別確定每一個函式都是正確的，組合起來就行了。\n",
    "* 一個設計得好的函式，可以讓很多程式重覆使用。你只需要寫一次，就能夠重覆一直使用者，這個稱為程式的重用性。"
   ]
  },
  {
   "cell_type": "markdown",
   "metadata": {
    "id": "rb7gZ9GqVSeo"
   },
   "source": [
    "## 4.11 習題"
   ]
  },
  {
   "cell_type": "markdown",
   "metadata": {
    "id": "l0B-cofAVSep"
   },
   "source": [
    "1. 請撰寫一個程式，呼叫一個自訂的函式 `f(x, n)`，計算一個整數 `x` 的 `n` 次方"
   ]
  },
  {
   "cell_type": "code",
   "execution_count": 21,
   "metadata": {
    "colab": {
     "base_uri": "https://localhost:8080/",
     "height": 106
    },
    "id": "nf2BCdKjVSep",
    "outputId": "bdc4a815-37c9-445c-c3da-d931e3ad8526"
   },
   "outputs": [
    {
     "name": "stdout",
     "output_type": "stream",
     "text": [
      "32\n"
     ]
    }
   ],
   "source": [
    "def f(x,n):\n",
    "    return x ** n\n",
    "\n",
    "print(f(2,5))"
   ]
  },
  {
   "cell_type": "markdown",
   "metadata": {
    "id": "l8YtdZ8cVSep"
   },
   "source": [
    "2. 請寫一個 `is_odd(x)` 函式，檢查輸入的參數 `x` 是不是奇數。如果 `x` 是奇數則回傳 `Ture`；若 `x` 不是奇數則回傳 `False`。"
   ]
  },
  {
   "cell_type": "code",
   "execution_count": 18,
   "metadata": {
    "id": "boVl2-E7VSep"
   },
   "outputs": [
    {
     "name": "stdout",
     "output_type": "stream",
     "text": [
      "True\n",
      "False\n"
     ]
    }
   ],
   "source": [
    "def is_odd(x):\n",
    "    if x %2==1:\n",
    "        return True\n",
    "    else:\n",
    "        return False\n",
    "\n",
    "print(is_odd(33))\n",
    "print(is_odd(546))"
   ]
  },
  {
   "cell_type": "code",
   "execution_count": 24,
   "metadata": {},
   "outputs": [
    {
     "ename": "SyntaxError",
     "evalue": "expected ':' (1770635832.py, line 2)",
     "output_type": "error",
     "traceback": [
      "\u001b[1;36m  Cell \u001b[1;32mIn[24], line 2\u001b[1;36m\u001b[0m\n\u001b[1;33m    if x %2==1\u001b[0m\n\u001b[1;37m              ^\u001b[0m\n\u001b[1;31mSyntaxError\u001b[0m\u001b[1;31m:\u001b[0m expected ':'\n"
     ]
    }
   ],
   "source": [
    "def is_odd(x):\n",
    "    if x %2==1"
   ]
  },
  {
   "cell_type": "code",
   "execution_count": null,
   "metadata": {},
   "outputs": [],
   "source": []
  }
 ],
 "metadata": {
  "colab": {
   "include_colab_link": true,
   "provenance": []
  },
  "kernelspec": {
   "display_name": "Python 3 (ipykernel)",
   "language": "python",
   "name": "python3"
  },
  "language_info": {
   "codemirror_mode": {
    "name": "ipython",
    "version": 3
   },
   "file_extension": ".py",
   "mimetype": "text/x-python",
   "name": "python",
   "nbconvert_exporter": "python",
   "pygments_lexer": "ipython3",
   "version": "3.11.7"
  }
 },
 "nbformat": 4,
 "nbformat_minor": 4
}
